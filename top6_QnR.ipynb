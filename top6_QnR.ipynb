{
 "cells": [
  {
   "cell_type": "code",
   "execution_count": 17,
   "metadata": {},
   "outputs": [],
   "source": [
    "import os\n",
    "import requests\n",
    "import random\n",
    "import json\n",
    "\n",
    "from bs4 import BeautifulSoup\n",
    "from pprint import pprint\n",
    "from typing import List\n",
    "\n",
    "from langchain_openai import ChatOpenAI\n",
    "from langchain.prompts import PromptTemplate\n",
    "from langchain_core.pydantic_v1 import BaseModel, Field\n",
    "from langchain_core.output_parsers import JsonOutputParser\n",
    "from langchain.tools import Tool\n",
    "from langchain_community.utilities import GoogleSearchAPIWrapper"
   ]
  },
  {
   "cell_type": "code",
   "execution_count": 14,
   "metadata": {},
   "outputs": [],
   "source": [
    "os.environ[\"GOOGLE_CSE_ID\"] = \"***\"\n",
    "os.environ[\"GOOGLE_API_KEY\"] = \"***\"\n",
    "os.environ[\"OPENAI_API_KEY\"] = \"***\""
   ]
  },
  {
   "cell_type": "code",
   "execution_count": 3,
   "metadata": {},
   "outputs": [],
   "source": [
    "TREND_LOC = \"FR\""
   ]
  },
  {
   "cell_type": "markdown",
   "metadata": {},
   "source": [
    "## Get recent search trends"
   ]
  },
  {
   "cell_type": "code",
   "execution_count": 4,
   "metadata": {},
   "outputs": [],
   "source": [
    "url = f\"https://trends.google.fr/trends/trendingsearches/daily/rss?geo={TREND_LOC}\"\n",
    "\n",
    "trend_response = requests.get(url=url)"
   ]
  },
  {
   "cell_type": "code",
   "execution_count": 5,
   "metadata": {},
   "outputs": [
    {
     "name": "stdout",
     "output_type": "stream",
     "text": [
      "Ligue 2\n",
      "Top 14\n",
      "Sabalenka\n",
      "Roi Charles III\n",
      "Taylor Swift\n",
      "Unrwa\n",
      "Budapest\n",
      "Tottenham\n",
      "CIJ\n",
      "Luka Doncic\n",
      "Handball\n",
      "Ligue 1\n",
      "Djokovic\n",
      "Zverev\n",
      "Jurgen Klopp\n",
      "Loi Egalim\n",
      "Laurent Fabius\n",
      "Roy Orbison\n",
      "Sylvain Tesson poetes\n",
      "Philippe Caverivière RTL\n"
     ]
    }
   ],
   "source": [
    "soup = BeautifulSoup(trend_response.text, \"xml\")\n",
    "\n",
    "items = soup.findAll(\"item\")\n",
    "\n",
    "themes = []\n",
    "for item in items:\n",
    "    print(item.title.text)\n",
    "    themes.append(item.title.text)\n"
   ]
  },
  {
   "cell_type": "markdown",
   "metadata": {},
   "source": [
    "## Searching for information on the selected topic on wikipedia"
   ]
  },
  {
   "cell_type": "code",
   "execution_count": 6,
   "metadata": {},
   "outputs": [
    {
     "name": "stdout",
     "output_type": "stream",
     "text": [
      "search info for Unrwa\n"
     ]
    }
   ],
   "source": [
    "topic = random.choice(themes)\n",
    "print(f\"search info for {topic}\")\n",
    "\n",
    "google_request = f\"{topic} site:wikipedia.org\""
   ]
  },
  {
   "cell_type": "code",
   "execution_count": 7,
   "metadata": {},
   "outputs": [],
   "source": [
    "search = GoogleSearchAPIWrapper()\n",
    "\n",
    "def top3_results(query):\n",
    "    return search.results(query, 3)\n",
    "\n",
    "tool = Tool(\n",
    "    name=\"Google Search\",\n",
    "    description=\"Search Google for recent results.\",\n",
    "    func=top3_results,\n",
    ")"
   ]
  },
  {
   "cell_type": "code",
   "execution_count": 8,
   "metadata": {},
   "outputs": [
    {
     "data": {
      "text/plain": [
       "[{'title': 'UNRWA - Wikipedia',\n",
       "  'link': 'https://en.wikipedia.org/wiki/UNRWA',\n",
       "  'snippet': 'UNRWA · The United Nations Relief and Works Agency for Palestine Refugees in the Near East (UNRWA, pronounced /ˈʌnrə/ UN-rə) · UNRWA was established in 1949 by\\xa0...'},\n",
       " {'title': 'Al-Maghazi UNRWA school airstrike - Wikipedia',\n",
       "  'link': 'https://en.wikipedia.org/wiki/Al-Maghazi_UNRWA_school_airstrike',\n",
       "  'snippet': 'Al-Maghazi UNRWA school airstrike ... On 17 October 2023, an airstrike conducted by Israel Defense Forces struck a United Nations Relief and Works Agency for\\xa0...'},\n",
       " {'title': 'Philippe Lazzarini - Wikipedia',\n",
       "  'link': 'https://en.wikipedia.org/wiki/Philippe_Lazzarini',\n",
       "  'snippet': 'Philippe Lazzarini (born 1964) is a national of Switzerland and Italy who has been serving as Commissioner-General of the United Nations Relief and Works\\xa0...'}]"
      ]
     },
     "execution_count": 8,
     "metadata": {},
     "output_type": "execute_result"
    }
   ],
   "source": [
    "sources = tool.run(google_request)\n",
    "sources"
   ]
  },
  {
   "cell_type": "code",
   "execution_count": 9,
   "metadata": {},
   "outputs": [],
   "source": [
    "def get_context(sources):\n",
    "    texts = []\n",
    "    for source in sources:\n",
    "        \n",
    "        page = requests.get(source['link'])\n",
    "        soup = BeautifulSoup(page.content, 'html.parser')\n",
    "\n",
    "        paragraphs = []\n",
    "        for paragraph in soup.find_all('p'):\n",
    "            paragraphs.append(str(paragraph.text))\n",
    "\n",
    "        text  =' '.join(paragraphs)\n",
    "        texts.append(text[:2000])\n",
    "    return texts\n",
    "\n",
    "texts = get_context(sources)"
   ]
  },
  {
   "cell_type": "markdown",
   "metadata": {},
   "source": [
    "## Building the VectorDB"
   ]
  },
  {
   "cell_type": "code",
   "execution_count": 18,
   "metadata": {},
   "outputs": [
    {
     "name": "stdout",
     "output_type": "stream",
     "text": [
      "'Unrwa'\n",
      "{\n",
      "    \"questions\": [\n",
      "        {\n",
      "            \"level\": 5,\n",
      "            \"setup\": \"I am an organization that supports the relief and development of Palestinian refugees. What am I?\",\n",
      "            \"hint1\": \"I am a UN agency.\",\n",
      "            \"hint2\": \"My mandate includes providing education, health care, and social services to Palestinian refugees.\",\n",
      "            \"answer\": \"UNRWA\"\n",
      "        },\n",
      "        {\n",
      "            \"level\": 7,\n",
      "            \"setup\": \"I was established in 1949 by the UN General Assembly. I provide relief to refugees from the 1948 conflict. What am I?\",\n",
      "            \"hint1\": \"I operate in Jordan, Lebanon, Syria, the Gaza Strip, and the West Bank.\",\n",
      "            \"hint2\": \"I am the only UN agency dedicated to helping refugees from a specific region or conflict.\",\n",
      "            \"answer\": \"UNRWA\"\n",
      "        },\n",
      "        {\n",
      "            \"level\": 3,\n",
      "            \"setup\": \"I am a person who has been serving as the Commissioner-General of UNRWA since 2020. Who am I?\",\n",
      "            \"hint1\": \"I am a national of Switzerland and Italy.\",\n",
      "            \"hint2\": \"I have previously served as the Deputy UN Special Coordinator for Lebanon.\",\n",
      "            \"answer\": \"Philippe Lazzarini\"\n",
      "        }\n",
      "    ]\n",
      "}\n"
     ]
    }
   ],
   "source": [
    "class Question(BaseModel):\n",
    "    level: int = Field(description=\"difficulty of the question between 1 and 10, 10 is the most difficult\")\n",
    "    setup: str = Field(description=\"riddle related to the context\")\n",
    "    hint1: str = Field(description=\"a first hint to resolve the riddle\")\n",
    "    hint2: str = Field(description=\"a second hint to resolve the riddle\")\n",
    "    answer: str = Field(description=\"answer to the riddle\")\n",
    "\n",
    "class Questions(BaseModel):\n",
    "    questions: List[Question]\n",
    "\n",
    "template = \"\"\"Generate your answer based only on the following context (delimited by <context> ... </context> tags):\n",
    "<context>\n",
    "{context}\n",
    "</context>\n",
    "{format_instructions}\n",
    "Question: Generate 3 riddle about {topic}\n",
    "\"\"\"\n",
    "parser = JsonOutputParser(pydantic_object=Questions)\n",
    "\n",
    "prompt = PromptTemplate(\n",
    "    template=template,\n",
    "    input_variables=[\"context\",\"topic\"],\n",
    "    partial_variables={\"format_instructions\": parser.get_format_instructions()},\n",
    ")\n",
    "\n",
    "model = ChatOpenAI()\n",
    "chain = prompt | model | parser\n",
    "\n",
    "context = \"\\n\".join(texts)\n",
    "llm_output = chain.invoke({\"context\": context, \"topic\": topic})\n",
    "pprint(f\"{topic}\")\n",
    "output = json.dumps(llm_output, indent=4)\n",
    "print(output)"
   ]
  },
  {
   "cell_type": "code",
   "execution_count": null,
   "metadata": {},
   "outputs": [],
   "source": []
  }
 ],
 "metadata": {
  "kernelspec": {
   "display_name": "Python 3",
   "language": "python",
   "name": "python3"
  },
  "language_info": {
   "codemirror_mode": {
    "name": "ipython",
    "version": 3
   },
   "file_extension": ".py",
   "mimetype": "text/x-python",
   "name": "python",
   "nbconvert_exporter": "python",
   "pygments_lexer": "ipython3",
   "version": "3.10.4"
  }
 },
 "nbformat": 4,
 "nbformat_minor": 2
}
