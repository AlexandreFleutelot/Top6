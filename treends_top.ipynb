{
 "cells": [
  {
   "cell_type": "code",
   "execution_count": 1,
   "metadata": {},
   "outputs": [
    {
     "name": "stdout",
     "output_type": "stream",
     "text": [
      "Requirement already satisfied: wikipedia in c:\\users\\fleut\\appdata\\local\\programs\\python\\python310\\lib\\site-packages (1.4.0)\n",
      "Requirement already satisfied: beautifulsoup4 in c:\\users\\fleut\\appdata\\local\\programs\\python\\python310\\lib\\site-packages (from wikipedia) (4.11.1)\n",
      "Requirement already satisfied: requests<3.0.0,>=2.0.0 in c:\\users\\fleut\\appdata\\local\\programs\\python\\python310\\lib\\site-packages (from wikipedia) (2.31.0)\n",
      "Requirement already satisfied: charset-normalizer<4,>=2 in c:\\users\\fleut\\appdata\\local\\programs\\python\\python310\\lib\\site-packages (from requests<3.0.0,>=2.0.0->wikipedia) (2.0.12)\n",
      "Requirement already satisfied: idna<4,>=2.5 in c:\\users\\fleut\\appdata\\local\\programs\\python\\python310\\lib\\site-packages (from requests<3.0.0,>=2.0.0->wikipedia) (2.10)\n",
      "Requirement already satisfied: urllib3<3,>=1.21.1 in c:\\users\\fleut\\appdata\\local\\programs\\python\\python310\\lib\\site-packages (from requests<3.0.0,>=2.0.0->wikipedia) (2.1.0)\n",
      "Requirement already satisfied: certifi>=2017.4.17 in c:\\users\\fleut\\appdata\\local\\programs\\python\\python310\\lib\\site-packages (from requests<3.0.0,>=2.0.0->wikipedia) (2021.10.8)\n",
      "Requirement already satisfied: soupsieve>1.2 in c:\\users\\fleut\\appdata\\local\\programs\\python\\python310\\lib\\site-packages (from beautifulsoup4->wikipedia) (2.3.2.post1)\n",
      "Note: you may need to restart the kernel to use updated packages.\n"
     ]
    },
    {
     "name": "stderr",
     "output_type": "stream",
     "text": [
      "DEPRECATION: pytorch-lightning 1.6.5 has a non-standard dependency specifier torch>=1.8.*. pip 24.0 will enforce this behaviour change. A possible replacement is to upgrade to a newer version of pytorch-lightning or contact the author to suggest that they release a version with a conforming dependency specifiers. Discussion can be found at https://github.com/pypa/pip/issues/12063\n"
     ]
    }
   ],
   "source": [
    "%pip install wikipedia"
   ]
  },
  {
   "cell_type": "code",
   "execution_count": 2,
   "metadata": {},
   "outputs": [],
   "source": [
    "import os\n",
    "import requests\n",
    "\n",
    "import wikipedia \n",
    "\n",
    "from bs4 import BeautifulSoup\n",
    "\n",
    "from langchain_openai import ChatOpenAI\n",
    "from langchain.prompts import PromptTemplate"
   ]
  },
  {
   "cell_type": "code",
   "execution_count": 3,
   "metadata": {},
   "outputs": [],
   "source": [
    "os.environ[\"OPENAI_API_KEY\"] = \"***\""
   ]
  },
  {
   "cell_type": "code",
   "execution_count": 4,
   "metadata": {},
   "outputs": [],
   "source": [
    "TREND_LOC = \"FR\""
   ]
  },
  {
   "cell_type": "code",
   "execution_count": 5,
   "metadata": {},
   "outputs": [],
   "source": [
    "def get_trends(locale):\n",
    "    url = f\"https://trends.google.fr/trends/trendingsearches/daily/rss?geo={locale}\"\n",
    "    trend_response = requests.get(url=url)\n",
    "    soup = BeautifulSoup(trend_response.text, \"xml\")\n",
    "\n",
    "    items = soup.findAll(\"item\")\n",
    "    return [item.title.text for item in items]"
   ]
  },
  {
   "cell_type": "code",
   "execution_count": 6,
   "metadata": {},
   "outputs": [],
   "source": [
    "def get_wiki(topic, n=5, loc=\"fr\"):\n",
    "    wikipedia.set_lang(loc)\n",
    "    return topic+\":\"+\",\".join(wikipedia.search(topic, results = n))"
   ]
  },
  {
   "cell_type": "code",
   "execution_count": 7,
   "metadata": {},
   "outputs": [],
   "source": [
    "trends = get_trends('FR')\n",
    "contexts = [get_wiki(trend, n=5, loc=\"fr\") for trend in trends]"
   ]
  },
  {
   "cell_type": "code",
   "execution_count": 8,
   "metadata": {},
   "outputs": [
    {
     "name": "stdout",
     "output_type": "stream",
     "text": [
      "Category 1: People\n",
      "- Benoit Kounkoud\n",
      "- Elon Musk\n",
      "- Iskandar Safa\n",
      "- Alain Delon\n",
      "- Amelia Earhart\n",
      "- Lorie\n",
      "- Claude Lanzmann\n",
      "- Xavier Niel\n",
      "- Marine Le Pen\n",
      "- Lamine Camara\n",
      "- Emmanuel Macron\n",
      "- Helena Noguerra\n",
      "- Vitinha\n",
      "- Arthur Cazaux\n",
      "\n",
      "Category 2: Sports\n",
      "- Benoit Kounkoud\n",
      "- Maroc Afrique du Sud\n",
      "- Mali-Burkina Faso\n",
      "- Premier League\n",
      "- Mali\n",
      "- Lamine Camara\n",
      "- Arthur Cazaux\n",
      "\n",
      "Category 3: Technology\n",
      "- Free\n",
      "- Neuralink\n",
      "- Elon Musk\n",
      "- Xavier Niel\n",
      "\n",
      "Category 4: Media and Entertainment\n",
      "- Iskandar Safa Valeurs actuelles\n",
      "- Alain Delon\n",
      "- Avion Amelia Earhart\n",
      "- Lorie\n",
      "- Claude Lanzmann\n",
      "- Helena Noguerra\n",
      "\n",
      "Category 5: Political Figures\n",
      "- Marine Le Pen\n",
      "- Emmanuel Macron\n",
      "\n",
      "Category 6: Miscellaneous\n",
      "- RSA\n"
     ]
    }
   ],
   "source": [
    "template = \"\"\"Generate your answer based only on the following context (delimited by <context> ... </context> tags):\n",
    "<context>\n",
    "{context}\n",
    "</context>\n",
    "Question: can you group these keywords in named categories: {trends}\n",
    "\"\"\"\n",
    "\n",
    "prompt = PromptTemplate(\n",
    "    template=template,\n",
    "    input_variables=[\"context\", \"trends\"],\n",
    ")\n",
    "\n",
    "model = ChatOpenAI()\n",
    "chain = prompt | model\n",
    "\n",
    "context = \"\\n\".join(contexts)\n",
    "trend_str = \",\".join(trends)\n",
    "llm_output = chain.invoke({\"context\": context, 'trends': trend_str})\n",
    "print(llm_output.content)"
   ]
  },
  {
   "cell_type": "code",
   "execution_count": null,
   "metadata": {},
   "outputs": [],
   "source": []
  }
 ],
 "metadata": {
  "kernelspec": {
   "display_name": "Python 3",
   "language": "python",
   "name": "python3"
  },
  "language_info": {
   "codemirror_mode": {
    "name": "ipython",
    "version": 3
   },
   "file_extension": ".py",
   "mimetype": "text/x-python",
   "name": "python",
   "nbconvert_exporter": "python",
   "pygments_lexer": "ipython3",
   "version": "3.10.4"
  }
 },
 "nbformat": 4,
 "nbformat_minor": 2
}
