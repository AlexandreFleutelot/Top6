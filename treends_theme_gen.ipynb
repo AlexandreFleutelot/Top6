{
 "cells": [
  {
   "cell_type": "code",
   "execution_count": 1,
   "metadata": {},
   "outputs": [
    {
     "name": "stdout",
     "output_type": "stream",
     "text": [
      "Requirement already satisfied: wikipedia in c:\\users\\fleut\\appdata\\local\\programs\\python\\python310\\lib\\site-packages (1.4.0)\n",
      "Requirement already satisfied: beautifulsoup4 in c:\\users\\fleut\\appdata\\local\\programs\\python\\python310\\lib\\site-packages (from wikipedia) (4.11.1)\n",
      "Requirement already satisfied: requests<3.0.0,>=2.0.0 in c:\\users\\fleut\\appdata\\local\\programs\\python\\python310\\lib\\site-packages (from wikipedia) (2.31.0)\n",
      "Requirement already satisfied: charset-normalizer<4,>=2 in c:\\users\\fleut\\appdata\\local\\programs\\python\\python310\\lib\\site-packages (from requests<3.0.0,>=2.0.0->wikipedia) (2.0.12)\n",
      "Requirement already satisfied: idna<4,>=2.5 in c:\\users\\fleut\\appdata\\local\\programs\\python\\python310\\lib\\site-packages (from requests<3.0.0,>=2.0.0->wikipedia) (2.10)\n",
      "Requirement already satisfied: urllib3<3,>=1.21.1 in c:\\users\\fleut\\appdata\\local\\programs\\python\\python310\\lib\\site-packages (from requests<3.0.0,>=2.0.0->wikipedia) (2.1.0)\n",
      "Requirement already satisfied: certifi>=2017.4.17 in c:\\users\\fleut\\appdata\\local\\programs\\python\\python310\\lib\\site-packages (from requests<3.0.0,>=2.0.0->wikipedia) (2021.10.8)\n",
      "Requirement already satisfied: soupsieve>1.2 in c:\\users\\fleut\\appdata\\local\\programs\\python\\python310\\lib\\site-packages (from beautifulsoup4->wikipedia) (2.3.2.post1)\n",
      "Note: you may need to restart the kernel to use updated packages.\n"
     ]
    },
    {
     "name": "stderr",
     "output_type": "stream",
     "text": [
      "DEPRECATION: pytorch-lightning 1.6.5 has a non-standard dependency specifier torch>=1.8.*. pip 24.0 will enforce this behaviour change. A possible replacement is to upgrade to a newer version of pytorch-lightning or contact the author to suggest that they release a version with a conforming dependency specifiers. Discussion can be found at https://github.com/pypa/pip/issues/12063\n"
     ]
    }
   ],
   "source": [
    "%pip install wikipedia"
   ]
  },
  {
   "cell_type": "code",
   "execution_count": 1,
   "metadata": {},
   "outputs": [],
   "source": [
    "import os\n",
    "import requests\n",
    "\n",
    "import wikipedia \n",
    "\n",
    "from bs4 import BeautifulSoup\n",
    "\n",
    "from langchain_openai import ChatOpenAI\n",
    "from langchain.prompts import PromptTemplate"
   ]
  },
  {
   "cell_type": "code",
   "execution_count": 2,
   "metadata": {},
   "outputs": [],
   "source": [
    "os.environ[\"OPENAI_API_KEY\"] = \"***\""
   ]
  },
  {
   "cell_type": "code",
   "execution_count": 3,
   "metadata": {},
   "outputs": [],
   "source": [
    "TREND_LOC = \"FR\""
   ]
  },
  {
   "cell_type": "code",
   "execution_count": 4,
   "metadata": {},
   "outputs": [],
   "source": [
    "def get_trends(locale):\n",
    "    url = f\"https://trends.google.fr/trends/trendingsearches/daily/rss?geo={locale}\"\n",
    "    trend_response = requests.get(url=url)\n",
    "    soup = BeautifulSoup(trend_response.text, \"xml\")\n",
    "\n",
    "    items = soup.findAll(\"item\")\n",
    "    return [item.title.text for item in items]"
   ]
  },
  {
   "cell_type": "code",
   "execution_count": 5,
   "metadata": {},
   "outputs": [],
   "source": [
    "def get_wiki(topic, n=5, loc=\"fr\"):\n",
    "    wikipedia.set_lang(loc)\n",
    "    return topic+\":\"+\",\".join(wikipedia.search(topic, results = n))"
   ]
  },
  {
   "cell_type": "code",
   "execution_count": 6,
   "metadata": {},
   "outputs": [],
   "source": [
    "trends = get_trends('FR')\n",
    "contexts = [get_wiki(trend, n=5, loc=\"fr\") for trend in trends]"
   ]
  },
  {
   "cell_type": "code",
   "execution_count": 13,
   "metadata": {},
   "outputs": [
    {
     "name": "stdout",
     "output_type": "stream",
     "text": [
      "1. What are the top 6 Celine Dion songs this week?\n",
      "The answer could include \"The Power of Love\" and \"I'm Alive\" as two of the top songs by Celine Dion.\n",
      "\n",
      "2. What are the top 6 Grammy Awards records this week?\n",
      "The answer could include the \"Grammy Award for Song of the Year\" and the \"Grammy Award for Album of the Year\" as two of the top records at the Grammy Awards.\n",
      "\n",
      "3. What are the top 6 football clubs in Portugal this week?\n",
      "The answer could include Benfica Lisbonne and Gil Vicente Futebol Clube as two of the top football clubs in Portugal.\n",
      "\n",
      "4. What are the top 6 French judo athletes this week?\n",
      "The answer could include Teddy Riner and Clarisse Agbégnénou as two of the top French judo athletes.\n",
      "\n",
      "5. What are the top 6 Taylor Swift albums this week?\n",
      "The answer could include \"Taylor Swift\" and \"Evermore\" as two of the top albums by Taylor Swift.\n",
      "\n",
      "6. What are the top 6 fashion designers this week?\n",
      "The answer could include Simon Porte Jacquemus and Úrsula Corberó as two of the top fashion designers.\n"
     ]
    }
   ],
   "source": [
    "template = \"\"\"<context>\n",
    "{context}\n",
    "</context>\n",
    "Based on the above context (delimited by <context> tags)\n",
    "Generate multiple question respecting the below template:\n",
    "\n",
    "\"What are the top 6 ... this week?\"\n",
    "\n",
    "The answer to this question must include at least two elements from the context (delimited by <context> tags):\n",
    "\"\"\"\n",
    "\n",
    "prompt = PromptTemplate(\n",
    "    template=template,\n",
    "    input_variables=[\"context\"],\n",
    ")\n",
    "\n",
    "model = ChatOpenAI()\n",
    "chain = prompt | model\n",
    "\n",
    "context = \"\\n\".join(contexts)\n",
    "llm_output = chain.invoke({\"context\": context})\n",
    "print(llm_output.content)"
   ]
  },
  {
   "cell_type": "code",
   "execution_count": null,
   "metadata": {},
   "outputs": [],
   "source": []
  }
 ],
 "metadata": {
  "kernelspec": {
   "display_name": "Python 3",
   "language": "python",
   "name": "python3"
  },
  "language_info": {
   "codemirror_mode": {
    "name": "ipython",
    "version": 3
   },
   "file_extension": ".py",
   "mimetype": "text/x-python",
   "name": "python",
   "nbconvert_exporter": "python",
   "pygments_lexer": "ipython3",
   "version": "3.10.4"
  }
 },
 "nbformat": 4,
 "nbformat_minor": 2
}
